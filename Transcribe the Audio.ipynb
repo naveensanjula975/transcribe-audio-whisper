from google.colab import drive
drive.mount('/content/drive')
print("✅ Google Drive mounted successfully.")

print("\nInstalling necessary libraries...")
!pip install -q git+https://github.com/openai/whisper.git
!pip install -q moviepy
print("✅ Libraries installed.")

import os

# --- Paste the file path ---
video_path = "/content/drive/MyDrive/video.mp4"

# --- Define output paths ---
audio_path = "/content/output_audio.mp3"
transcript_path = "/content/drive/MyDrive/transcript4.txt"

import moviepy.editor as mp

print(f"\nExtracting audio from your video...")
# Check if the file exists before trying to process it
if not os.path.exists(video_path):
    print(f"❌ ERROR: The file was not found at the path: {video_path}")
    print("Please double-check the path and filename.")
else:
    try:
        video = mp.VideoFileClip(video_path)
        video.audio.write_audiofile(audio_path, logger=None)
        print(f"✅ Audio extracted successfully.")

        import whisper

        print("\nLoading the Whisper transcription model...")
        model = whisper.load_model("base") # "base" is a good balance of speed and accuracy
        print("✅ Whisper model loaded.")

        print("✍️ Starting transcription... (This can take a while for long videos)")
        result = model.transcribe(audio_path, fp16=False)
        transcript_text = result["text"]
        print("✅ Transcription complete.")

        print(f"\nSaving transcript to: {transcript_path}")
        with open(transcript_path, "w") as f:
            f.write(transcript_text)

        print("\n🎉 All done! Your transcript has been saved to your Google Drive.")
        print("\n--- Transcript Preview ---")
        print(transcript_text[:500] + "...")

    except Exception as e:
        print(f"❌ An error occurred during processing: {e}")
